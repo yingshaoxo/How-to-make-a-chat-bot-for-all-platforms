{
 "cells": [
  {
   "cell_type": "markdown",
   "metadata": {},
   "source": [
    "## Session 7: 完善 (improving)\n",
    "\n",
    "* 发挥想象力去完善该全平台聊天机器人系统"
   ]
  },
  {
   "cell_type": "markdown",
   "metadata": {},
   "source": [
    "___"
   ]
  },
  {
   "cell_type": "markdown",
   "metadata": {},
   "source": [
    "#### 实现关键词过滤\n",
    "\n",
    "> 针对师生群，只看 **重要信息**\n",
    "\n",
    ">> 如语句中包含下列词汇：\n",
    "\n",
    ">> `作业` or `交`\n",
    "\n",
    ">> `页` and `题`\n",
    "\n",
    ">> `报名` or `缴费`\n",
    "\n",
    ">> `课` and `上`\n",
    "\n",
    ">> `面试` or `校招`"
   ]
  },
  {
   "cell_type": "markdown",
   "metadata": {},
   "source": [
    "___"
   ]
  },
  {
   "cell_type": "markdown",
   "metadata": {},
   "source": [
    "#### 接入图灵机器人\n",
    "\n",
    "申请图灵机器人API，并接入"
   ]
  },
  {
   "cell_type": "markdown",
   "metadata": {},
   "source": [
    "___"
   ]
  },
  {
   "cell_type": "markdown",
   "metadata": {},
   "source": [
    "___"
   ]
  },
  {
   "cell_type": "markdown",
   "metadata": {},
   "source": [
    "___"
   ]
  },
  {
   "cell_type": "markdown",
   "metadata": {},
   "source": [
    "#### The End\n",
    "\n",
    "Thanks for watching, bye!\n",
    "\n",
    "Contact me: @yingshaoxo"
   ]
  }
 ],
 "metadata": {
  "kernelspec": {
   "display_name": "Python 3",
   "language": "python",
   "name": "python3"
  },
  "language_info": {
   "codemirror_mode": {
    "name": "ipython",
    "version": 3
   },
   "file_extension": ".py",
   "mimetype": "text/x-python",
   "name": "python",
   "nbconvert_exporter": "python",
   "pygments_lexer": "ipython3",
   "version": "3.6.5"
  }
 },
 "nbformat": 4,
 "nbformat_minor": 2
}
