{
 "cells": [
  {
   "cell_type": "markdown",
   "metadata": {},
   "source": [
    "## Session 1: 理解现状 (What's happened to me)\n",
    "\n",
    "* 使用 Telegram\n",
    "* 做一个 Telegram bot 来了解什么是 chatbot"
   ]
  },
  {
   "cell_type": "markdown",
   "metadata": {},
   "source": [
    "___"
   ]
  },
  {
   "cell_type": "markdown",
   "metadata": {},
   "source": [
    "#### What is telegram?\n",
    "\n",
    "* 电报\n",
    "* A chat application\n",
    "* A great company\n",
    "\n",
    "https://telegram.org"
   ]
  },
  {
   "cell_type": "markdown",
   "metadata": {},
   "source": [
    "___"
   ]
  },
  {
   "cell_type": "markdown",
   "metadata": {},
   "source": [
    "#### 怎样注册一个账户\n",
    "\n",
    "随便下载一个平台的客户端，并按照要求操作 (需要 Global Internet 支持)"
   ]
  },
  {
   "cell_type": "markdown",
   "metadata": {},
   "source": [
    "___"
   ]
  },
  {
   "cell_type": "markdown",
   "metadata": {},
   "source": [
    "#### Choose an open source framework (选择一个开源框架)\n",
    "\n",
    "> 不要问我为什么，因为简单\n",
    "\n",
    "https://github.com/python-telegram-bot/python-telegram-bot#installing"
   ]
  },
  {
   "cell_type": "markdown",
   "metadata": {},
   "source": [
    "___"
   ]
  },
  {
   "cell_type": "markdown",
   "metadata": {},
   "source": [
    "#### 写代码 (Writting Codes)"
   ]
  },
  {
   "cell_type": "code",
   "execution_count": null,
   "metadata": {},
   "outputs": [],
   "source": [
    "from telegram.ext import Updater\n",
    "\n",
    "updater = Updater(token='TOKEN')\n",
    "dispatcher = updater.dispatcher\n",
    "\n",
    "\n",
    "def start_function(bot, update):\n",
    "    bot.send_message(\n",
    "        chat_id=update.message.chat_id, \n",
    "        text=\"I'm a bot, please talk to me!\"\n",
    "    )\n",
    "    \n",
    "from telegram.ext import CommandHandler\n",
    "start_handler = CommandHandler('start', start_function)\n",
    "dispatcher.add_handler(start_handler)\n",
    "\n",
    "\n",
    "def echo(bot, update):\n",
    "    bot.send_message(chat_id=update.message.chat_id, text=update.message.text)\n",
    "\n",
    "from telegram.ext import MessageHandler, Filters\n",
    "echo_handler = MessageHandler(Filters.text, echo)\n",
    "dispatcher.add_handler(echo_handler)\n",
    "\n",
    "\n",
    "updater.start_polling()"
   ]
  }
 ],
 "metadata": {
  "kernelspec": {
   "display_name": "Python 3",
   "language": "python",
   "name": "python3"
  },
  "language_info": {
   "codemirror_mode": {
    "name": "ipython",
    "version": 3
   },
   "file_extension": ".py",
   "mimetype": "text/x-python",
   "name": "python",
   "nbconvert_exporter": "python",
   "pygments_lexer": "ipython3",
   "version": "3.6.5"
  }
 },
 "nbformat": 4,
 "nbformat_minor": 2
}
