{
 "cells": [
  {
   "cell_type": "markdown",
   "metadata": {},
   "source": [
    "## Session 2: 尝试调用 QQ 机器人接口 (Hacking Tencent by seeking others help)\n",
    "\n",
    "* 了解 QQ 机器人的前世今生\n",
    "* 选择一个最稳定的方案并应用"
   ]
  },
  {
   "cell_type": "markdown",
   "metadata": {},
   "source": [
    "___"
   ]
  },
  {
   "cell_type": "markdown",
   "metadata": {},
   "source": [
    "#### What is QQ chatbot? (什么是QQ机器人)\n",
    "\n",
    "可以对腾讯QQ平台的消息进行收发处理的机器人"
   ]
  },
  {
   "cell_type": "markdown",
   "metadata": {},
   "source": [
    "___"
   ]
  },
  {
   "cell_type": "markdown",
   "metadata": {},
   "source": [
    "#### The history of QQ chatbot (QQ机器人的历史发展) \n",
    "\n",
    "1. `3G QQ 时代`: 这个时候只要会爬虫，就能开发机器人\n",
    "2. `Web QQ 时代`: 不光得会爬网页，还要会处理数据的加解密以及繁杂的验证\n",
    "3. `PC QQ 时代`: 这个时候需要破解腾讯QQ `PC通讯协议` 才行，`酷Q`在这个阶段崛起\n",
    "4. `Moblie QQ 时代`: 除了 hack PC 端的QQ，你还可以 hack 手机端的QQ，为了追求稳定你什么都能干\n",
    "\n",
    "> 总而言之，腾讯对第三方机器人不友好"
   ]
  },
  {
   "cell_type": "markdown",
   "metadata": {},
   "source": [
    "___"
   ]
  },
  {
   "cell_type": "markdown",
   "metadata": {},
   "source": [
    "#### Choose an framework (选择一个最稳定的方案)\n",
    "\n",
    "选择: 酷Q\n",
    "\n",
    "原因: 稳定，开发者经验丰富，有庞大的社群支持"
   ]
  },
  {
   "cell_type": "markdown",
   "metadata": {},
   "source": [
    "___"
   ]
  },
  {
   "cell_type": "markdown",
   "metadata": {},
   "source": [
    "#### Choose an open source framework (选择一个开源框架并架设环境)\n",
    "\n",
    "coolq-http: https://github.com/richardchien/coolq-http-api"
   ]
  },
  {
   "cell_type": "code",
   "execution_count": null,
   "metadata": {},
   "outputs": [],
   "source": [
    "# install env\n",
    "$ docker pull richardchien/cqhttp:latest\n",
    "$ mkdir coolq  # 用于存储酷 Q 的程序文件\n",
    "$ docker run -d -ti --name cqhttp-test \\\n",
    "             -v $(pwd)/coolq:/home/user/coolq \\  # 将宿主目录挂载到容器内用于持久化酷 Q 的程序文件\n",
    "             -p 9000:9000 \\  # noVNC 端口，用于从浏览器控制酷 Q (密码:MAX8char)\n",
    "             -p 5700:5700 \\  # HTTP API 插件开放的端口\n",
    "             -e COOLQ_ACCOUNT=296209157 \\ # 要登录的 QQ 账号，可选但建议填\n",
    "             -e CQHTTP_POST_URL=http://182.254.242.181:8080 \\  # 事件上报地址, 必须是公网地址\n",
    "             -e CQHTTP_SERVE_DATA_FILES=yes \\  # 允许通过 HTTP 接口访问酷 Q 数据文件\n",
    "             richardchien/cqhttp:latest"
   ]
  },
  {
   "cell_type": "markdown",
   "metadata": {},
   "source": [
    "___"
   ]
  },
  {
   "cell_type": "markdown",
   "metadata": {},
   "source": [
    "#### 写代码 (Writting Codes)"
   ]
  },
  {
   "cell_type": "code",
   "execution_count": null,
   "metadata": {},
   "outputs": [],
   "source": [
    "from cqhttp import CQHttp\n",
    "\n",
    "bot = CQHttp(\n",
    "    api_root='http://127.0.0.1:5700/'\n",
    ")\n",
    "\n",
    "\n",
    "@bot.on_message()\n",
    "def handle_msg(context):\n",
    "    bot.send(context, '你好呀，下面一条是你刚刚发的：')\n",
    "    return {'reply': context['message'], 'at_sender': False}\n",
    "\n",
    "\n",
    "bot.run(host='0.0.0.0', port=8080)"
   ]
  }
 ],
 "metadata": {
  "kernelspec": {
   "display_name": "Python 3",
   "language": "python",
   "name": "python3"
  },
  "language_info": {
   "codemirror_mode": {
    "name": "ipython",
    "version": 3
   },
   "file_extension": ".py",
   "mimetype": "text/x-python",
   "name": "python",
   "nbconvert_exporter": "python",
   "pygments_lexer": "ipython3",
   "version": "3.6.5"
  }
 },
 "nbformat": 4,
 "nbformat_minor": 2
}
